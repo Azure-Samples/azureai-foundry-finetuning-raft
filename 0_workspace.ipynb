{
 "cells": [
  {
   "cell_type": "markdown",
   "metadata": {},
   "source": [
    "# Azure ML Workspace infrastructure setup\n",
    "\n",
    "Before we can start generating synthetic data and fine-tuning a student model, we need an Azure AI Studio Hub (same as a ML Workspace). You can either use an existing one or create a new one for this recipe. And you can either do this manually using either [Azure ML Studio](https://aka.ms/raft-llama-31-learn-deploy-405b) or [Azure AI Studio](https://aka.ms/raft-llama-31-learn-deploy-405b-ai-studio) or automatically using this notebook with the Azure Management and Azure ML Python SDKs.\n",
    "\n",
    "The typical way to configure an Azure AI Studio Hub, which is the same as an Azure ML Workspace is to use a `config.json` file. This notebook will load an existing `config.json` file if it is available or use environment variables. This is handy to run this notebook as part of automated tests in a Github Workflow CI/CD pipeline configured using environment variables.\n",
    "\n",
    "Instead of assuming that the resource group and workspace exist if the `config.json` file exists, this notebook will provision the resource group if it is missing then the Hub if it is missing."
   ]
  },
  {
   "attachments": {},
   "cell_type": "markdown",
   "metadata": {},
   "source": [
    "**Install dependencies by running below cell. This is not an optional step if running in a new environment.**"
   ]
  },
  {
   "cell_type": "code",
   "execution_count": null,
   "metadata": {},
   "outputs": [],
   "source": [
    "%pip install azure-ai-ml\n",
    "%pip install azure-identity\n",
    "\n",
    "%pip install mlflow\n",
    "%pip install azureml-mlflow\n",
    "%pip install azureml-core\n",
    "%pip install msrestazure\n",
    "%pip install azure-mgmt-resource"
   ]
  },
  {
   "cell_type": "markdown",
   "metadata": {},
   "source": [
    "## Authenticate\n",
    "\n",
    "Run `az login` in the terminal"
   ]
  },
  {
   "cell_type": "markdown",
   "metadata": {},
   "source": [
    "### Get Azure credentials"
   ]
  },
  {
   "cell_type": "code",
   "execution_count": null,
   "metadata": {},
   "outputs": [],
   "source": [
    "from azure.ai.ml import MLClient\n",
    "from azure.identity import (\n",
    "    DefaultAzureCredential,\n",
    "    InteractiveBrowserCredential,\n",
    ")\n",
    "\n",
    "try:\n",
    "    credential = DefaultAzureCredential()\n",
    "    credential.get_token(\"https://management.azure.com/.default\")\n",
    "except Exception as ex:\n",
    "    credential = InteractiveBrowserCredential()"
   ]
  },
  {
   "cell_type": "markdown",
   "metadata": {},
   "source": [
    "## Load env vars"
   ]
  },
  {
   "cell_type": "code",
   "execution_count": null,
   "metadata": {},
   "outputs": [],
   "source": [
    "from dotenv import load_dotenv\n",
    "import os\n",
    "\n",
    "load_dotenv(\".env\")"
   ]
  },
  {
   "cell_type": "markdown",
   "metadata": {},
   "source": [
    "## Load config.json if it exists"
   ]
  },
  {
   "cell_type": "code",
   "execution_count": null,
   "metadata": {},
   "outputs": [],
   "source": [
    "import json\n",
    "from pathlib import Path\n",
    "\n",
    "config = {}\n",
    "if Path(\"config.json\").exists():\n",
    "    print(\"Loading config.json\")\n",
    "    with open(\"config.json\") as f:\n",
    "        config = json.load(f)"
   ]
  },
  {
   "cell_type": "markdown",
   "metadata": {},
   "source": [
    "## Get subscription\n",
    "\n",
    "Read subscription ID from `config.json` if available or `AZURE_SUBSCRIPTION_ID` environment variable or fallback to using the subscription found with the credentials if there's only one.\n",
    "\n",
    "Will fail if no subscription is specified and more than one are found."
   ]
  },
  {
   "cell_type": "code",
   "execution_count": null,
   "metadata": {},
   "outputs": [],
   "source": [
    "subscription_id = config.get(\"subscription_id\") or os.getenv(\"AZURE_SUBSCRIPTION_ID\")\n",
    "if not subscription_id:\n",
    "    from azure.mgmt.resource import SubscriptionClient\n",
    "\n",
    "    #sub_client = get_client_from_cli_profile(SubscriptionClient)\n",
    "    sub_client = SubscriptionClient(credential)\n",
    "    subs = list(sub_client.subscriptions.list())\n",
    "    if len(subs) == 0:\n",
    "        raise Exception(\"No subscriptions found\")\n",
    "    if len(subs) > 1:\n",
    "        raise Exception(\"Multiple subscriptions found, please set AZURE_SUBSCRIPTION_ID in .env file\")\n",
    "    print(f\"Only one subscription found '{subs[0].display_name}' so selecting it\")\n",
    "    subscription_id = subs[0].subscription_id\n",
    "else:\n",
    "    print(f\"Using subscription '{subscription_id}'\")"
   ]
  },
  {
   "cell_type": "markdown",
   "metadata": {},
   "source": [
    "## Get resource group\n",
    "\n",
    "Get existing resource group or create it if it doesn't exist"
   ]
  },
  {
   "cell_type": "code",
   "execution_count": null,
   "metadata": {},
   "outputs": [],
   "source": [
    "region = config.get(\"location\") or os.getenv(\"WORKSPACE_REGION\") or \"westus3\"\n",
    "print(f\"Using location '{region}'\")"
   ]
  },
  {
   "cell_type": "code",
   "execution_count": null,
   "metadata": {},
   "outputs": [],
   "source": [
    "import os\n",
    "\n",
    "from azure.identity import DefaultAzureCredential\n",
    "from azure.mgmt.resource import ResourceManagementClient\n",
    "from azure.core.exceptions import ResourceNotFoundError\n",
    "\n",
    "resource_group = config.get(\"resource_group\") or os.getenv(\"RESOURCE_GROUP\") or \"rg-raft-distillation\"\n",
    "\n",
    "# Obtain the management object for resources.\n",
    "resource_client = ResourceManagementClient(credential, subscription_id)\n",
    "\n",
    "# Provision the resource group.\n",
    "try:\n",
    "    rg_result = resource_client.resource_groups.get(resource_group)\n",
    "    print(f\"Found existing resource group '{rg_result.name}' in location '{rg_result.location}'\")\n",
    "except ResourceNotFoundError as ex:\n",
    "    print(\"Resource group does not exist, creating...\")\n",
    "    rg_result = resource_client.resource_groups.create_or_update(resource_group, {\"location\": region})"
   ]
  },
  {
   "cell_type": "markdown",
   "metadata": {},
   "source": [
    "## Get MLClient\n",
    "\n",
    "MLClient can be created at different scopes: resource group level, workspace level, registry level, ...\n",
    "\n",
    "Here we create a resource group level MLClient and use it to figure out whether the workspace exists or we should provision it"
   ]
  },
  {
   "cell_type": "code",
   "execution_count": null,
   "metadata": {},
   "outputs": [],
   "source": [
    "ml_client = MLClient(DefaultAzureCredential(), subscription_id, resource_group)"
   ]
  },
  {
   "cell_type": "markdown",
   "metadata": {},
   "source": [
    "## Get ML workspace\n",
    "\n",
    "Get ML workspace if it exists or provision it if it doesn't"
   ]
  },
  {
   "cell_type": "code",
   "execution_count": null,
   "metadata": {},
   "outputs": [],
   "source": [
    "from azure.core.exceptions import ResourceNotFoundError\n",
    "workspace_name = config.get(\"workspace_name\") or os.getenv(\"WORKSPACE_NAME\") or \"raft-distillation\"\n",
    "try:\n",
    "    ml_client.workspaces.get(workspace_name)\n",
    "    print(f\"Found existing workspace '{workspace_name}'\")\n",
    "except ResourceNotFoundError as ex:\n",
    "    print(\"Workspace does not exist, creating...\")\n",
    "\n",
    "    from azure.ai.ml.entities import Workspace\n",
    "    ws_basic = Workspace(\n",
    "        name=workspace_name,\n",
    "        location=region,\n",
    "        display_name=\"RAFT Distillation workspace\",\n",
    "        description=\"RAFT Distillation workspace\",\n",
    "        hbi_workspace=False,\n",
    "        tags=dict(purpose=\"demo\"),\n",
    "    )\n",
    "\n",
    "    ws = ml_client.workspaces.begin_create(ws_basic).result()"
   ]
  },
  {
   "cell_type": "code",
   "execution_count": null,
   "metadata": {},
   "outputs": [],
   "source": [
    "\n",
    "config[\"subscription_id\"] = subscription_id\n",
    "config[\"resource_group\"] = resource_group\n",
    "config[\"workspace_name\"] = workspace_name\n",
    "\n",
    "import json\n",
    "with open(\"config.json\", \"w\") as outfile:\n",
    "    json.dump(config, outfile, indent=4)"
   ]
  },
  {
   "cell_type": "code",
   "execution_count": null,
   "metadata": {},
   "outputs": [],
   "source": []
  }
 ],
 "metadata": {
  "kernelspec": {
   "display_name": "Python 3 (ipykernel)",
   "language": "python",
   "name": "python3"
  },
  "language_info": {
   "codemirror_mode": {
    "name": "ipython",
    "version": 3
   },
   "file_extension": ".py",
   "mimetype": "text/x-python",
   "name": "python",
   "nbconvert_exporter": "python",
   "pygments_lexer": "ipython3",
   "version": "3.12.5"
  }
 },
 "nbformat": 4,
 "nbformat_minor": 2
}
